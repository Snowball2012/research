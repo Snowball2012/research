{
 "cells": [
  {
   "cell_type": "code",
   "execution_count": 1,
   "id": "d12d1f4f-dff7-44da-8431-1698a314647b",
   "metadata": {
    "tags": []
   },
   "outputs": [],
   "source": [
    "import os\n",
    "from IPython.display import Image\n",
    "import png\n",
    "\n",
    "import cv2\n",
    "\n",
    "import numpy\n",
    "from math import *\n",
    "\n",
    "from caustics import *\n"
   ]
  },
  {
   "cell_type": "code",
   "execution_count": null,
   "id": "713c4fb9-e2dc-4e7a-8828-bb5153a95d3a",
   "metadata": {
    "tags": []
   },
   "outputs": [],
   "source": [
    "\n",
    "    "
   ]
  },
  {
   "cell_type": "code",
   "execution_count": 2,
   "id": "b276cdd2-c50e-4de6-8d61-7c9c099f73eb",
   "metadata": {
    "tags": []
   },
   "outputs": [],
   "source": [
    "# if input image is in range 0..1, please first multiply img by 255\n",
    "# assume image is ndarray of shape [height, width, channels] where channels can be 1, 3 or 4\n",
    "def imshow(img):\n",
    "    import cv2\n",
    "    import IPython\n",
    "    _,ret = cv2.imencode('.png', img) \n",
    "    i = IPython.display.Image(data=ret)\n",
    "    IPython.display.display(i)"
   ]
  },
  {
   "cell_type": "code",
   "execution_count": 3,
   "id": "1103e032-5264-4b36-bea1-038a0835412b",
   "metadata": {
    "tags": []
   },
   "outputs": [],
   "source": [
    "import ipywidgets as widgets\n",
    "\n",
    "width_slider = widgets.IntSlider(\n",
    "    value=1000,\n",
    "    min=100,\n",
    "    max=2048,\n",
    "    step=1,\n",
    "    description='Image resolution:',\n",
    "    disabled=False,\n",
    "    continuous_update=True,\n",
    "    orientation='horizontal',\n",
    "    readout=True,\n",
    "    readout_format='d'\n",
    ")\n",
    "\n",
    "h_slider = widgets.FloatSlider(\n",
    "    value=1,\n",
    "    min=-1,\n",
    "    max=1,\n",
    "    step=0.001,\n",
    "    description='h',\n",
    "    disabled=False,\n",
    "    continuous_update=True,\n",
    "    orientation='horizontal',\n",
    "    readout=True,\n",
    "    readout_format='f'\n",
    ")"
   ]
  },
  {
   "cell_type": "code",
   "execution_count": 4,
   "id": "526e54fb-9624-427d-bf3e-d8166bc39c12",
   "metadata": {
    "tags": []
   },
   "outputs": [
    {
     "data": {
      "application/vnd.jupyter.widget-view+json": {
       "model_id": "9bb2929a67dd4a0692ad17823a4790c4",
       "version_major": 2,
       "version_minor": 0
      },
      "text/plain": [
       "IntSlider(value=1000, description='Image resolution:', max=2048, min=100)"
      ]
     },
     "metadata": {},
     "output_type": "display_data"
    },
    {
     "data": {
      "application/vnd.jupyter.widget-view+json": {
       "model_id": "2710d4055bfc4d32857b3ef792a9de24",
       "version_major": 2,
       "version_minor": 0
      },
      "text/plain": [
       "FloatSlider(value=1.0, description='h', max=1.0, min=-1.0, readout_format='f', step=0.001)"
      ]
     },
     "metadata": {},
     "output_type": "display_data"
    },
    {
     "data": {
      "application/vnd.jupyter.widget-view+json": {
       "model_id": "0beed14bfd734e719780ad7de792ca1d",
       "version_major": 2,
       "version_minor": 0
      },
      "text/plain": [
       "Output(layout=Layout(border_bottom='1px solid black', border_left='1px solid black', border_right='1px solid b…"
      ]
     },
     "metadata": {},
     "output_type": "display_data"
    }
   ],
   "source": [
    "out = widgets.Output(layout={'border': '1px solid black'})\n",
    "\n",
    "\n",
    "def EvalImage(change):\n",
    "    with out:\n",
    "        out.clear_output()\n",
    "        width = width_slider.value\n",
    "        src = CreateImage( width, h_slider.value )\n",
    "\n",
    "        imshow(src)\n",
    "\n",
    "display(width_slider)\n",
    "display(h_slider)\n",
    "display( out )\n",
    "width_slider.observe( EvalImage, names=\"value\" )\n",
    "h_slider.observe( EvalImage, names=\"value\" )\n",
    "EvalImage([])"
   ]
  },
  {
   "cell_type": "code",
   "execution_count": null,
   "id": "f69495e9-f2a5-46b3-bb30-bd98ba1802a9",
   "metadata": {},
   "outputs": [],
   "source": []
  }
 ],
 "metadata": {
  "kernelspec": {
   "display_name": "Python 3 (ipykernel)",
   "language": "python",
   "name": "python3"
  },
  "language_info": {
   "codemirror_mode": {
    "name": "ipython",
    "version": 3
   },
   "file_extension": ".py",
   "mimetype": "text/x-python",
   "name": "python",
   "nbconvert_exporter": "python",
   "pygments_lexer": "ipython3",
   "version": "3.8.16"
  }
 },
 "nbformat": 4,
 "nbformat_minor": 5
}
